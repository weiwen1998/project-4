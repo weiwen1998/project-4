{
 "cells": [
  {
   "cell_type": "code",
   "execution_count": 1,
   "id": "e980f91f",
   "metadata": {},
   "outputs": [],
   "source": [
    "import pandas as pd\n",
    "from sklearn.linear_model import LogisticRegression\n",
    "import os\n",
    "import pandas as pd\n",
    "from sklearn import preprocessing\n",
    "from sklearn.metrics import accuracy_score, confusion_matrix, classification_report\n",
    "import pickle"
   ]
  },
  {
   "cell_type": "code",
   "execution_count": 2,
   "id": "ccb5319a",
   "metadata": {},
   "outputs": [
    {
     "name": "stdout",
     "output_type": "stream",
     "text": [
      "{'HeartDisease': {'No': 0, 'Yes': 1}, 'Smoking': {'Yes': 1, 'No': 0}, 'AlcoholDrinking': {'No': 0, 'Yes': 1}, 'Stroke': {'No': 0, 'Yes': 1}, 'DiffWalking': {'No': 0, 'Yes': 1}, 'PhysicalActivity': {'Yes': 1, 'No': 0}, 'Asthma': {'Yes': 1, 'No': 0}, 'KidneyDisease': {'No': 0, 'Yes': 1}, 'SkinCancer': {'Yes': 1, 'No': 0}, 'Diabetic': {'Yes': 2, 'No': 0, 'No, borderline diabetes': 1, 'Yes (during pregnancy)': 3}, 'AgeCategory': {'35 - 64': 1, '65 or older': 2, '18 - 34': 0}, 'Race': {'White': 5, 'Black': 2, 'Asian': 1, 'American Indian/Alaskan Native': 0, 'Other': 4, 'Hispanic': 3}, 'GenHealth': {'Very good': 4, 'Fair': 1, 'Good': 2, 'Poor': 3, 'Excellent': 0}, 'Sex': {'Female': 0, 'Male': 1}}\n"
     ]
    }
   ],
   "source": [
    "filename = 'models/finalized_model.sav'\n",
    "filename_standard ='models/standard_scaler.sav'\n",
    "replacement_dict = \"models/dict_all.obj\"\n",
    "\n",
    "dict = pickle.load(open(replacement_dict, 'rb'))\n",
    "print(dict)\n"
   ]
  },
  {
   "cell_type": "code",
   "execution_count": 3,
   "id": "d389aaf6",
   "metadata": {},
   "outputs": [
    {
     "data": {
      "text/html": [
       "<div>\n",
       "<style scoped>\n",
       "    .dataframe tbody tr th:only-of-type {\n",
       "        vertical-align: middle;\n",
       "    }\n",
       "\n",
       "    .dataframe tbody tr th {\n",
       "        vertical-align: top;\n",
       "    }\n",
       "\n",
       "    .dataframe thead th {\n",
       "        text-align: right;\n",
       "    }\n",
       "</style>\n",
       "<table border=\"1\" class=\"dataframe\">\n",
       "  <thead>\n",
       "    <tr style=\"text-align: right;\">\n",
       "      <th></th>\n",
       "      <th>Sex</th>\n",
       "      <th>AgeCategory</th>\n",
       "      <th>GenHealth</th>\n",
       "      <th>Stroke</th>\n",
       "      <th>Diabetic</th>\n",
       "      <th>KidneyDisease</th>\n",
       "      <th>Smoking</th>\n",
       "      <th>AlcoholDrinking</th>\n",
       "    </tr>\n",
       "  </thead>\n",
       "  <tbody>\n",
       "    <tr>\n",
       "      <th>0</th>\n",
       "      <td>Male</td>\n",
       "      <td>18 - 34</td>\n",
       "      <td>Poor</td>\n",
       "      <td>No</td>\n",
       "      <td>Yes</td>\n",
       "      <td>Yes</td>\n",
       "      <td>No</td>\n",
       "      <td>Yes</td>\n",
       "    </tr>\n",
       "  </tbody>\n",
       "</table>\n",
       "</div>"
      ],
      "text/plain": [
       "    Sex AgeCategory GenHealth Stroke Diabetic KidneyDisease Smoking  \\\n",
       "0  Male     18 - 34      Poor     No      Yes           Yes      No   \n",
       "\n",
       "  AlcoholDrinking  \n",
       "0             Yes  "
      ]
     },
     "execution_count": 3,
     "metadata": {},
     "output_type": "execute_result"
    }
   ],
   "source": [
    "sex = \"Male\"\n",
    "age_category = \"18 - 34\"\n",
    "gen_health = \"Poor\"\n",
    "stroke = \"No\"\n",
    "diabetic = \"Yes\"\n",
    "kidney_disease = \"Yes\"\n",
    "smoking = \"No\"\n",
    "alcohol = \"Yes\"\n",
    "\n",
    "# def predict_heart_disease(Sex, AgeCategory, GenHealth, Stroke, Diabetic, KidneyDisease, Smoking, Alcohol):\n",
    "dict_all_loaded = pickle.load(open(replacement_dict, 'rb'))\n",
    "\n",
    "# Create list of categorical columns based on the 8 params\n",
    "cat_columns = [\"Sex\", \"AgeCategory\", \n",
    "               \"GenHealth\", \"Stroke\", \n",
    "               \"Diabetic\", \"KidneyDisease\", \n",
    "               \"Smoking\", \"AlcoholDrinking\"]\n",
    "\n",
    "# put all parameters into dataframe\n",
    "df = pd.DataFrame({\"Sex\": sex,\n",
    "                    \"AgeCategory\": age_category,\n",
    "                    \"GenHealth\": gen_health,\n",
    "                    \"Stroke\":stroke,\n",
    "                    \"Diabetic\":diabetic,\n",
    "                    \"KidneyDisease\":kidney_disease,\n",
    "                    \"Smoking\":smoking,\n",
    "                    \"AlcoholDrinking\":alcohol}, index=[0])\n",
    "df.head()"
   ]
  },
  {
   "cell_type": "code",
   "execution_count": 4,
   "id": "7e5e9810",
   "metadata": {},
   "outputs": [
    {
     "data": {
      "text/html": [
       "<div>\n",
       "<style scoped>\n",
       "    .dataframe tbody tr th:only-of-type {\n",
       "        vertical-align: middle;\n",
       "    }\n",
       "\n",
       "    .dataframe tbody tr th {\n",
       "        vertical-align: top;\n",
       "    }\n",
       "\n",
       "    .dataframe thead th {\n",
       "        text-align: right;\n",
       "    }\n",
       "</style>\n",
       "<table border=\"1\" class=\"dataframe\">\n",
       "  <thead>\n",
       "    <tr style=\"text-align: right;\">\n",
       "      <th></th>\n",
       "      <th>Sex</th>\n",
       "      <th>AgeCategory</th>\n",
       "      <th>GenHealth</th>\n",
       "      <th>Stroke</th>\n",
       "      <th>Diabetic</th>\n",
       "      <th>KidneyDisease</th>\n",
       "      <th>Smoking</th>\n",
       "      <th>AlcoholDrinking</th>\n",
       "    </tr>\n",
       "  </thead>\n",
       "  <tbody>\n",
       "    <tr>\n",
       "      <th>0</th>\n",
       "      <td>1</td>\n",
       "      <td>0</td>\n",
       "      <td>3</td>\n",
       "      <td>0</td>\n",
       "      <td>2</td>\n",
       "      <td>1</td>\n",
       "      <td>0</td>\n",
       "      <td>1</td>\n",
       "    </tr>\n",
       "  </tbody>\n",
       "</table>\n",
       "</div>"
      ],
      "text/plain": [
       "   Sex  AgeCategory  GenHealth  Stroke  Diabetic  KidneyDisease  Smoking  \\\n",
       "0    1            0          3       0         2              1        0   \n",
       "\n",
       "   AlcoholDrinking  \n",
       "0                1  "
      ]
     },
     "execution_count": 4,
     "metadata": {},
     "output_type": "execute_result"
    }
   ],
   "source": [
    "for col in cat_columns:\n",
    "    df[col].replace(dict_all_loaded[col], inplace=True)\n",
    "    \n",
    "df.head()"
   ]
  },
  {
   "cell_type": "code",
   "execution_count": 5,
   "id": "13984f08",
   "metadata": {},
   "outputs": [
    {
     "name": "stdout",
     "output_type": "stream",
     "text": [
      "[[ 1.04978106 -1.66117757  0.50971747 -0.20091272  4.18989698  5.16743226\n",
      "  -0.84083226  3.66949192]]\n"
     ]
    }
   ],
   "source": [
    "# Fit the model using the test data\n",
    "ScalerFile = pickle.load(open(filename_standard, 'rb'))\n",
    "data = ScalerFile.transform(df) \n",
    "print(data)"
   ]
  },
  {
   "cell_type": "code",
   "execution_count": 6,
   "id": "29be9a47",
   "metadata": {},
   "outputs": [
    {
     "name": "stdout",
     "output_type": "stream",
     "text": [
      "1\n"
     ]
    }
   ],
   "source": [
    "loaded_model = pickle.load(open(filename, 'rb'))\n",
    "    \n",
    "result = loaded_model.predict(data)\n",
    "\n",
    "# if result[0] == 0:\n",
    "#     print(\"No heart disease\")\n",
    "\n",
    "# else:\n",
    "#     print(\"Heart disease\")\n",
    "\n",
    "print(result[0])"
   ]
  },
  {
   "cell_type": "code",
   "execution_count": 9,
   "id": "52a5fae8",
   "metadata": {},
   "outputs": [
    {
     "name": "stdout",
     "output_type": "stream",
     "text": [
      "0\n"
     ]
    }
   ],
   "source": [
    "print(df.iloc[0,1])"
   ]
  },
  {
   "cell_type": "code",
   "execution_count": null,
   "id": "7f743ebf",
   "metadata": {},
   "outputs": [],
   "source": []
  }
 ],
 "metadata": {
  "kernelspec": {
   "display_name": "Python 3",
   "language": "python",
   "name": "python3"
  },
  "language_info": {
   "codemirror_mode": {
    "name": "ipython",
    "version": 3
   },
   "file_extension": ".py",
   "mimetype": "text/x-python",
   "name": "python",
   "nbconvert_exporter": "python",
   "pygments_lexer": "ipython3",
   "version": "3.6.13"
  }
 },
 "nbformat": 4,
 "nbformat_minor": 5
}
